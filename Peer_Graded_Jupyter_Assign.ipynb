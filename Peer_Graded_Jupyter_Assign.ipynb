{
  "metadata": {
    "language_info": {
      "codemirror_mode": {
        "name": "python",
        "version": 3
      },
      "file_extension": ".py",
      "mimetype": "text/x-python",
      "name": "python",
      "nbconvert_exporter": "python",
      "pygments_lexer": "ipython3",
      "version": "3.8"
    },
    "kernelspec": {
      "name": "python",
      "display_name": "Pyolite",
      "language": "python"
    }
  },
  "nbformat_minor": 4,
  "nbformat": 4,
  "cells": [
    {
      "cell_type": "markdown",
      "source": "<H1>My Jupyter Notebook on IBM Watson Studio<H1>",
      "metadata": {}
    },
    {
      "cell_type": "markdown",
      "source": "__Elton Fernandes__\n>Insights Analyst",
      "metadata": {}
    },
    {
      "cell_type": "markdown",
      "source": "_I am interested in Data Science because I think it's amazing how analysis of data can lead to so many different insights and help in learning trends and show patterns. It just amazes me._",
      "metadata": {}
    },
    {
      "cell_type": "markdown",
      "source": "<h3>The following code will show simple calculations<h3>",
      "metadata": {}
    },
    {
      "cell_type": "code",
      "source": "a=1\nb=7\nprint(a+b)\nprint(a-b)\nprint(a*b)\nprint(a/b)",
      "metadata": {
        "trusted": true
      },
      "execution_count": 4,
      "outputs": [
        {
          "name": "stdout",
          "text": "8\n-6\n7\n0.14285714285714285\n",
          "output_type": "stream"
        }
      ]
    },
    {
      "cell_type": "markdown",
      "source": "|Name|Age|Contact|\n|-----|-----|-----|\n|-----|-----|-----|\n|Elton|Angela|Elaine|",
      "metadata": {}
    },
    {
      "cell_type": "markdown",
      "source": "- Onions\n- Potatoes\n- Tomatoes",
      "metadata": {}
    },
    {
      "cell_type": "markdown",
      "source": "1. Apples\n2. Oranges\n3. Bananas",
      "metadata": {}
    },
    {
      "cell_type": "markdown",
      "source": "~this is strikethrough text~",
      "metadata": {}
    },
    {
      "cell_type": "code",
      "source": "",
      "metadata": {},
      "execution_count": null,
      "outputs": []
    }
  ]
}